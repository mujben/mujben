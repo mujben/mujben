{
  "nbformat": 4,
  "nbformat_minor": 0,
  "metadata": {
    "colab": {
      "provenance": [],
      "authorship_tag": "ABX9TyNUV0AZdhtSGzznv3xQEdB9",
      "include_colab_link": true
    },
    "kernelspec": {
      "name": "python3",
      "display_name": "Python 3"
    },
    "language_info": {
      "name": "python"
    }
  },
  "cells": [
    {
      "cell_type": "markdown",
      "metadata": {
        "id": "view-in-github",
        "colab_type": "text"
      },
      "source": [
        "<a href=\"https://colab.research.google.com/github/mujben/mujben/blob/main/Zadanie10(zestaw9).ipynb\" target=\"_parent\"><img src=\"https://colab.research.google.com/assets/colab-badge.svg\" alt=\"Open In Colab\"/></a>"
      ]
    },
    {
      "cell_type": "code",
      "execution_count": null,
      "metadata": {
        "id": "4D-NDkXjQ4-e"
      },
      "outputs": [],
      "source": [
        "import matplotlib.pyplot as plot"
      ]
    },
    {
      "cell_type": "code",
      "source": [
        "%%writefile main.py\n",
        "# rozmiarSz = 100\n",
        "\n",
        "class Goniec:\n",
        "    def __init__(self, y, x):       # określenie gońca poprzez koordynaty na szachownicy\n",
        "        self.kolumna = x\n",
        "        self.wiersz = y\n",
        "    def szachuje(self, inny_goniec):\n",
        "        return(abs(self.wiersz - inny_goniec.wiersz) == abs(self.kolumna - inny_goniec.kolumna))    # sprawdzenie czy gońce się szachują\n",
        "\n",
        "class Szachownica:\n",
        "    def __init__(self, rozmiar):\n",
        "        self.rozmiar = rozmiar\n",
        "        if(rozmiar < 2):\n",
        "          raise ValueError(\"Szachownica za mała\")\n",
        "        self.gonce = []\n",
        "    def tworzenie_goncow(self, wiersz, kolumna):\n",
        "        if (0 <= wiersz and wiersz < self.rozmiar and 0 <= kolumna and kolumna < self.rozmiar):\n",
        "            self.gonce.append(Goniec(wiersz, kolumna))\n",
        "        else:\n",
        "            raise ValueError(\"Goniec poza szachownicą.\")\n",
        "    def szachowanie(self):\n",
        "        szachujace_sie_gonce = {}\n",
        "        for i, goniec in enumerate(self.gonce):\n",
        "            szachowane = []\n",
        "            for j, inny_goniec in enumerate(self.gonce):\n",
        "                if (i != j and goniec.szachuje(inny_goniec)):                       # i != j - nie sprawdzamy tego samego gońca z samym sobą\n",
        "                    szachowane.append((inny_goniec.wiersz, inny_goniec.kolumna))\n",
        "            if szachowane:\n",
        "                szachujace_sie_gonce[(goniec.wiersz, goniec.kolumna)] = szachowane\n",
        "        return szachujace_sie_gonce\n",
        "\n",
        "    def wizualizacja(self, szachujace_sie_gonce):\n",
        "        fig, os = plot.subplots(figsize = (6, 6))       # tworzenie rysunku o wymiarach 6 x 6 cali fig - obiekt (musi być żeby powstała krotka), os - osie\n",
        "        for i in range(100):\n",
        "            for j in range(100):\n",
        "                kolor = \"white\" if ((i + j) % 2 == 0) else \"gray\"\n",
        "                os.add_patch(plot.Rectangle((j, 100 - i - 1), 1, 1, color = kolor))     # rysowanie kwadratu o wymiarach 1 x 1 jednostek na odpowiednim polu osi układu, j - współrzędne x, 100 - i - 1 odwrócone współrzędne y\n",
        "        for goniec, szachowane in szachujace_sie_gonce.items():\n",
        "            x, y = goniec\n",
        "            os.text(y + 0.5, 100 - x - 0.5, \"G\", ha = \"center\", va = \"center\", color = \"red\", fontsize = 14)    # x, y - koordynaty gonca licząc od punktu (0,0)\n",
        "            for sx, sy in szachowane:\n",
        "                os.text(sy + 0.5, 100 - sx - 0.5, \"G\", ha = \"center\", va = \"center\", color = \"blue\", fontsize = 14)     # sx, sy - koordynaty szachowanych licząc od punktu (0,0)\n",
        "        os.set_xlim(0, 100)         # ogranieczenie rysowania wykresu do przedziału [0, 100]\n",
        "        os.set_ylim(0, 100)\n",
        "        os.set_xticklabels([])      # brak podpisów osi żeby nie zaciemniały rysunku\n",
        "        os.set_yticklabels([])\n",
        "        os.set_aspect(\"equal\")\n",
        "        os.grid(False)\n",
        "        plot.show()                 # rysowanie szachownicy z zawartością\n",
        "\n",
        "'''\n",
        "def tworzenie_goncow(koordynaty):\n",
        "    gonce = []\n",
        "    for element in koordynaty:\n",
        "        goniec.x = element[0]\n",
        "        goniec.y = element[1]\n",
        "        gonce.append(goniec.x, goniec.y)\n",
        "'''\n",
        "'''\n",
        "def sprawdzanie(k_goncow):\n",
        "    pozycje_goncow = {}\n",
        "    for element in k_goncow:\n",
        "        szachujace_sie = []\n",
        "        for element2 in k_goncow:\n",
        "            if(element[0] == element2[0] and element[1] == element2[1]):            # żeby nie sprawdzać tego samego gońca\n",
        "                continue\n",
        "            elif(abs(element[0] - element2[0]) == abs(element[1] - element2[1])):\n",
        "                szachujace_sie.append(element2)\n",
        "        if(szachujace_sie):\n",
        "            pozycje_goncow[element] = szachujace_sie\n",
        "    return pozycje_goncow\n",
        "\n",
        "pozycje_goncow |= sprawdzanie(dane)     # gdzie |= to operator zaktualizowania słownika (update operator)\n",
        "'''\n",
        "'''\n",
        "def wizualizacja(pozycje_goncow_slownik):\n",
        "    fig, os = plot.subplots(figsize = (6, 6))       # tworzenie rysunku o wymiarach 6 x 6 cali fig - obiekt (musi być żeby powstała krotka), os - osie\n",
        "    for i in range(100):\n",
        "        for j in range(100):\n",
        "            kolor = \"white\" if ((i + j) % 2 == 0) else \"gray\"\n",
        "            os.add_patch(plot.Rectangle((j, 100 - i - 1), 1, 1, color = kolor))     # rysowanie kwadratu o wymiarach 1 x 1 jednostek na odpowiednim polu osi układu, j - współrzędne x, 100 - i - 1 odwrócone współrzędne y\n",
        "    for goniec, szachowane in pozycje_goncow_slownik.items():\n",
        "        x, y = goniec\n",
        "        os.text(y + 0.5, 100 - x - 0.5, \"G\", ha = \"center\", va = \"center\", color = \"red\", fontsize = 14)    # x, y - koordynaty gonca licząc od punktu (0,0)\n",
        "        for sx, sy in szachowane:\n",
        "            os.text(sy + 0.5, 100 - sx - 0.5, \"G\", ha = \"center\", va = \"center\", color = \"blue\", fontsize = 14)     # sx, sy - koordynaty szachowanych licząc od punktu (0,0)\n",
        "    os.set_xlim(0, 100)         # ogranieczenie rysowania wykresu do przedziału [0, 100]\n",
        "    os.set_ylim(0, 100)\n",
        "    os.set_xticklabels([])      # brak podpisów osi żeby nie zaciemniały rysunku\n",
        "    os.set_yticklabels([])\n",
        "    os.set_aspect(\"equal\")\n",
        "    os.grid(False)\n",
        "    plot.show()                 # rysowanie szachownicy z zawartością\n",
        "# wizualizacja(pozycje_goncow)\n",
        "'''\n",
        "\n",
        "# szachownica = Szachownica(100)\n",
        "\n",
        "# print(\"Aby skonczyc wpisywanie goncow wpisz \\\"koniec\\\"\")\n",
        "\n",
        "# n = 1\n",
        "# while n <= rozmiarSz:\n",
        "#     w = input(\"Podaj numer wiersza gonca: \")\n",
        "#     if(w == 'koniec'):\n",
        "#         break\n",
        "#     k = input(\"Podaj numer kolumny gonca: \")\n",
        "#     if(k == 'koniec'):\n",
        "#         break\n",
        "#     try:\n",
        "#         szachownica.tworzenie_goncow(int(w), int(k))\n",
        "#     except ValueError:\n",
        "#         print(ValueError)\n",
        "#         continue\n",
        "#     n += 1\n",
        "#     w, k = 0, 0\n",
        "\n",
        "# szachujace_sie = szachownica.szachowanie()\n",
        "\n",
        "# if not szachujace_sie:\n",
        "#     print(\"Żadne gońce się nie szachują.\\n\")\n",
        "# elif(len(szachujace_sie) == 2):\n",
        "#     print(\"Dokładnie 2 gońce się szachują.\\n\")\n",
        "# elif(len(szachujace_sie) > 2):\n",
        "#     print(f\"Szachuje się {len(szachujace_sie)} gońców\\n\")\n",
        "#     for klucz, wartosc in szachujace_sie.items():\n",
        "#         print(f\"Goniec na pozycji {klucz} szachuje gońce na pozycjach {wartosc}\")"
      ],
      "metadata": {
        "colab": {
          "base_uri": "https://localhost:8080/"
        },
        "id": "7bZf75ogRRkL",
        "outputId": "e4139909-5fae-4ceb-e993-8bb2dfa998e9"
      },
      "execution_count": null,
      "outputs": [
        {
          "output_type": "stream",
          "name": "stdout",
          "text": [
            "Overwriting main.py\n"
          ]
        }
      ]
    },
    {
      "cell_type": "code",
      "source": [
        "szachownica.wizualizacja(szachujace_sie)"
      ],
      "metadata": {
        "colab": {
          "base_uri": "https://localhost:8080/",
          "height": 506
        },
        "id": "00JMFiYQI2t-",
        "outputId": "50fe96d6-1626-470a-fdb7-3d1423497aa9"
      },
      "execution_count": null,
      "outputs": [
        {
          "output_type": "display_data",
          "data": {
            "text/plain": [
              "<Figure size 600x600 with 1 Axes>"
            ],
            "image/png": "[encoded data removed]"
          },
          "metadata": {}
        }
      ]
    },
    {
      "cell_type": "code",
      "source": [
        "#przypadki testowe z użyciem unittest:\n",
        "import unittest\n",
        "class TestSzachownicy(unittest.TestCase):\n",
        "  def testowanie_tworzenia_gonca_poza_szachownica(self):\n",
        "\n",
        "    szachownica = Szachownica(100)\n",
        "    with self.assertRaises(ValueError):\n",
        "      szachownica.tworzenie_goncow(101, 0)\n",
        "\n",
        "  def testowanie_tworzenia_gonca(self):\n",
        "    goniec = Goniec(10, 4)\n",
        "    self.assertEqual(goniec.wiersz, 10)\n",
        "    self.assertEqual(goniec.kolumna, 4)\n",
        "\n",
        "  def testowanie_szachowania(self):\n",
        "    szachownica = Szachownica(100)\n",
        "    szachownica.tworzenie_goncow(2, 2)\n",
        "    szachownica.tworzenie_goncow(4, 3)\n",
        "    szachowane = szachownica.szachowanie()\n",
        "    self.assertNotEqual(len(szachowane), 1)"
      ],
      "metadata": {
        "id": "FTotnyR0I4w0"
      },
      "execution_count": null,
      "outputs": []
    },
    {
      "cell_type": "code",
      "source": [
        "unittest.main(argv=[''], verbosity=2, exit=False)"
      ],
      "metadata": {
        "colab": {
          "base_uri": "https://localhost:8080/"
        },
        "id": "kRmByKL5O6f5",
        "outputId": "d5765f4f-c0c3-433a-ca99-36afe05892ca"
      },
      "execution_count": null,
      "outputs": [
        {
          "output_type": "stream",
          "name": "stderr",
          "text": [
            "testowanie_szachowania (__main__.TestSzachownicy) ... ok\n",
            "testowanie_tworzenia_gonca (__main__.TestSzachownicy) ... ok\n",
            "testowanie_tworzenia_gonca_poza_szachownica (__main__.TestSzachownicy) ... ok\n",
            "\n",
            "----------------------------------------------------------------------\n",
            "Ran 3 tests in 0.018s\n",
            "\n",
            "OK\n"
          ]
        },
        {
          "output_type": "execute_result",
          "data": {
            "text/plain": [
              "<unittest.main.TestProgram at 0x7ca6f717b430>"
            ]
          },
          "metadata": {},
          "execution_count": 23
        }
      ]
    },
    {
      "cell_type": "code",
      "source": [
        "#przypadki testowe z użyciem pytest\n",
        "%%writefile pytest_test.py\n",
        "import pytest\n",
        "from main import Szachownica, Goniec\n",
        "\n",
        "def test_szachowanie():\n",
        "    szachownica = Szachownica(100)\n",
        "    szachownica.tworzenie_goncow(0, 0)\n",
        "    szachownica.tworzenie_goncow(2, 2)\n",
        "    szachownica.tworzenie_goncow(4, 4)\n",
        "    szachowane = szachownica.szachowanie()\n",
        "    assert (0, 0) in szachowane\n",
        "    assert (2, 2) in szachowane[(0, 0)]\n",
        "    assert (4, 4) in szachowane[(0, 0)]\n",
        "\n",
        "def test_brak_szachowania():\n",
        "    szachownica = Szachownica(100)\n",
        "    szachownica.tworzenie_goncow(0, 0)\n",
        "    szachownica.tworzenie_goncow(1, 2)  # Gońce nie szachują się\n",
        "    wynik = szachownica.szachowanie()\n",
        "    assert wynik == {}\n",
        "\n",
        "def zbyt_mala_szachownica():\n",
        "    with pytest.raises(ValueError, match=\"Szachownica za mała\"):\n",
        "        Szachownica(1)  # Rozmiar szachownicy jest mniejszy niż 2"
      ],
      "metadata": {
        "colab": {
          "base_uri": "https://localhost:8080/"
        },
        "id": "e6-ca1a0RRKq",
        "outputId": "edcf6516-93d1-4d8d-f580-4b4e2b5b735d"
      },
      "execution_count": null,
      "outputs": [
        {
          "output_type": "stream",
          "name": "stdout",
          "text": [
            "Overwriting pytest_test.py\n"
          ]
        }
      ]
    },
    {
      "cell_type": "code",
      "source": [
        "!pytest pytest_test.py"
      ],
      "metadata": {
        "colab": {
          "base_uri": "https://localhost:8080/"
        },
        "id": "OW_RJ8CZR9rt",
        "outputId": "126e569a-cb6e-4131-b1e6-2c5b8000085c"
      },
      "execution_count": null,
      "outputs": [
        {
          "output_type": "stream",
          "name": "stdout",
          "text": [
            "\u001b[1m======================================= test session starts ========================================\u001b[0m\n",
            "platform linux -- Python 3.10.12, pytest-8.3.4, pluggy-1.5.0\n",
            "rootdir: /content\n",
            "plugins: typeguard-4.4.1, anyio-3.7.1\n",
            "\u001b[1mcollecting ... \u001b[0m\u001b[1m\rcollected 2 items                                                                                  \u001b[0m\n",
            "\n",
            "pytest_test.py \u001b[32m.\u001b[0m\u001b[32m.\u001b[0m\u001b[32m                                                                            [100%]\u001b[0m\n",
            "\n",
            "\u001b[32m======================================== \u001b[32m\u001b[1m2 passed\u001b[0m\u001b[32m in 0.02s\u001b[0m\u001b[32m =========================================\u001b[0m\n"
          ]
        }
      ]
    }
  ]
}